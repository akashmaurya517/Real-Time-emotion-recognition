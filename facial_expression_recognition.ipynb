{
  "nbformat": 4,
  "nbformat_minor": 0,
  "metadata": {
    "colab": {
      "name": "facial_expression_recognition.ipynb",
      "provenance": [],
      "collapsed_sections": []
    },
    "language_info": {
      "codemirror_mode": {
        "name": "ipython",
        "version": 3
      },
      "file_extension": ".py",
      "mimetype": "text/x-python",
      "name": "python",
      "nbconvert_exporter": "python",
      "pygments_lexer": "ipython3",
      "version": "3.6.8"
    },
    "kernelspec": {
      "name": "python3",
      "display_name": "Python 3"
    },
    "accelerator": "TPU"
  },
  "cells": [
    {
      "cell_type": "code",
      "metadata": {
        "id": "2Le1frfg1iJr",
        "colab_type": "code",
        "outputId": "bc931766-6a70-4f48-9a38-e74ec35cf56e",
        "colab": {
          "base_uri": "https://localhost:8080/",
          "height": 129
        }
      },
      "source": [
        "import cv2\n",
        "import numpy as np\n",
        "from os import listdir\n",
        "from os.path import isfile, join\n",
        "import pandas as  pd"
      ],
      "execution_count": 0,
      "outputs": [
        {
          "output_type": "error",
          "ename": "SyntaxError",
          "evalue": "ignored",
          "traceback": [
            "\u001b[0;36m  File \u001b[0;32m\"<ipython-input-1-669f58fdab95>\"\u001b[0;36m, line \u001b[0;32m5\u001b[0m\n\u001b[0;31m    import pandas as\u001b[0m\n\u001b[0m                      ^\u001b[0m\n\u001b[0;31mSyntaxError\u001b[0m\u001b[0;31m:\u001b[0m invalid syntax\n"
          ]
        }
      ]
    },
    {
      "cell_type": "code",
      "metadata": {
        "id": "0iyQmxZP4rJx",
        "colab_type": "code",
        "outputId": "f49e5647-0433-4e95-b132-af622537eec4",
        "colab": {
          "base_uri": "https://localhost:8080/",
          "height": 527
        }
      },
      "source": [
        "# Run this cell to mount your Google Drive.\n",
        "from google.colab import drive\n",
        "drive.mount('/content/gdrive')"
      ],
      "execution_count": 0,
      "outputs": [
        {
          "output_type": "error",
          "ename": "KeyboardInterrupt",
          "evalue": "ignored",
          "traceback": [
            "\u001b[0;31m---------------------------------------------------------------------------\u001b[0m",
            "\u001b[0;31mKeyboardInterrupt\u001b[0m                         Traceback (most recent call last)",
            "\u001b[0;32m/usr/local/lib/python3.6/dist-packages/ipykernel/kernelbase.py\u001b[0m in \u001b[0;36m_input_request\u001b[0;34m(self, prompt, ident, parent, password)\u001b[0m\n\u001b[1;32m    729\u001b[0m             \u001b[0;32mtry\u001b[0m\u001b[0;34m:\u001b[0m\u001b[0;34m\u001b[0m\u001b[0;34m\u001b[0m\u001b[0m\n\u001b[0;32m--> 730\u001b[0;31m                 \u001b[0mident\u001b[0m\u001b[0;34m,\u001b[0m \u001b[0mreply\u001b[0m \u001b[0;34m=\u001b[0m \u001b[0mself\u001b[0m\u001b[0;34m.\u001b[0m\u001b[0msession\u001b[0m\u001b[0;34m.\u001b[0m\u001b[0mrecv\u001b[0m\u001b[0;34m(\u001b[0m\u001b[0mself\u001b[0m\u001b[0;34m.\u001b[0m\u001b[0mstdin_socket\u001b[0m\u001b[0;34m,\u001b[0m \u001b[0;36m0\u001b[0m\u001b[0;34m)\u001b[0m\u001b[0;34m\u001b[0m\u001b[0;34m\u001b[0m\u001b[0m\n\u001b[0m\u001b[1;32m    731\u001b[0m             \u001b[0;32mexcept\u001b[0m \u001b[0mException\u001b[0m\u001b[0;34m:\u001b[0m\u001b[0;34m\u001b[0m\u001b[0;34m\u001b[0m\u001b[0m\n",
            "\u001b[0;32m/usr/local/lib/python3.6/dist-packages/jupyter_client/session.py\u001b[0m in \u001b[0;36mrecv\u001b[0;34m(self, socket, mode, content, copy)\u001b[0m\n\u001b[1;32m    802\u001b[0m         \u001b[0;32mtry\u001b[0m\u001b[0;34m:\u001b[0m\u001b[0;34m\u001b[0m\u001b[0;34m\u001b[0m\u001b[0m\n\u001b[0;32m--> 803\u001b[0;31m             \u001b[0mmsg_list\u001b[0m \u001b[0;34m=\u001b[0m \u001b[0msocket\u001b[0m\u001b[0;34m.\u001b[0m\u001b[0mrecv_multipart\u001b[0m\u001b[0;34m(\u001b[0m\u001b[0mmode\u001b[0m\u001b[0;34m,\u001b[0m \u001b[0mcopy\u001b[0m\u001b[0;34m=\u001b[0m\u001b[0mcopy\u001b[0m\u001b[0;34m)\u001b[0m\u001b[0;34m\u001b[0m\u001b[0;34m\u001b[0m\u001b[0m\n\u001b[0m\u001b[1;32m    804\u001b[0m         \u001b[0;32mexcept\u001b[0m \u001b[0mzmq\u001b[0m\u001b[0;34m.\u001b[0m\u001b[0mZMQError\u001b[0m \u001b[0;32mas\u001b[0m \u001b[0me\u001b[0m\u001b[0;34m:\u001b[0m\u001b[0;34m\u001b[0m\u001b[0;34m\u001b[0m\u001b[0m\n",
            "\u001b[0;32m/usr/local/lib/python3.6/dist-packages/zmq/sugar/socket.py\u001b[0m in \u001b[0;36mrecv_multipart\u001b[0;34m(self, flags, copy, track)\u001b[0m\n\u001b[1;32m    465\u001b[0m         \"\"\"\n\u001b[0;32m--> 466\u001b[0;31m         \u001b[0mparts\u001b[0m \u001b[0;34m=\u001b[0m \u001b[0;34m[\u001b[0m\u001b[0mself\u001b[0m\u001b[0;34m.\u001b[0m\u001b[0mrecv\u001b[0m\u001b[0;34m(\u001b[0m\u001b[0mflags\u001b[0m\u001b[0;34m,\u001b[0m \u001b[0mcopy\u001b[0m\u001b[0;34m=\u001b[0m\u001b[0mcopy\u001b[0m\u001b[0;34m,\u001b[0m \u001b[0mtrack\u001b[0m\u001b[0;34m=\u001b[0m\u001b[0mtrack\u001b[0m\u001b[0;34m)\u001b[0m\u001b[0;34m]\u001b[0m\u001b[0;34m\u001b[0m\u001b[0;34m\u001b[0m\u001b[0m\n\u001b[0m\u001b[1;32m    467\u001b[0m         \u001b[0;31m# have first part already, only loop while more to receive\u001b[0m\u001b[0;34m\u001b[0m\u001b[0;34m\u001b[0m\u001b[0;34m\u001b[0m\u001b[0m\n",
            "\u001b[0;32mzmq/backend/cython/socket.pyx\u001b[0m in \u001b[0;36mzmq.backend.cython.socket.Socket.recv\u001b[0;34m()\u001b[0m\n",
            "\u001b[0;32mzmq/backend/cython/socket.pyx\u001b[0m in \u001b[0;36mzmq.backend.cython.socket.Socket.recv\u001b[0;34m()\u001b[0m\n",
            "\u001b[0;32mzmq/backend/cython/socket.pyx\u001b[0m in \u001b[0;36mzmq.backend.cython.socket._recv_copy\u001b[0;34m()\u001b[0m\n",
            "\u001b[0;32m/usr/local/lib/python3.6/dist-packages/zmq/backend/cython/checkrc.pxd\u001b[0m in \u001b[0;36mzmq.backend.cython.checkrc._check_rc\u001b[0;34m()\u001b[0m\n",
            "\u001b[0;31mKeyboardInterrupt\u001b[0m: ",
            "\nDuring handling of the above exception, another exception occurred:\n",
            "\u001b[0;31mKeyboardInterrupt\u001b[0m                         Traceback (most recent call last)",
            "\u001b[0;32m<ipython-input-2-4996ee3d8d09>\u001b[0m in \u001b[0;36m<module>\u001b[0;34m()\u001b[0m\n\u001b[1;32m      1\u001b[0m \u001b[0;32mfrom\u001b[0m \u001b[0mgoogle\u001b[0m\u001b[0;34m.\u001b[0m\u001b[0mcolab\u001b[0m \u001b[0;32mimport\u001b[0m \u001b[0mdrive\u001b[0m\u001b[0;34m\u001b[0m\u001b[0;34m\u001b[0m\u001b[0m\n\u001b[0;32m----> 2\u001b[0;31m \u001b[0mdrive\u001b[0m\u001b[0;34m.\u001b[0m\u001b[0mmount\u001b[0m\u001b[0;34m(\u001b[0m\u001b[0;34m'/content/gdrive'\u001b[0m\u001b[0;34m)\u001b[0m\u001b[0;34m\u001b[0m\u001b[0;34m\u001b[0m\u001b[0m\n\u001b[0m",
            "\u001b[0;32m/usr/local/lib/python3.6/dist-packages/google/colab/drive.py\u001b[0m in \u001b[0;36mmount\u001b[0;34m(mountpoint, force_remount, timeout_ms, use_metadata_server)\u001b[0m\n\u001b[1;32m    235\u001b[0m       \u001b[0mauth_prompt\u001b[0m \u001b[0;34m=\u001b[0m \u001b[0md\u001b[0m\u001b[0;34m.\u001b[0m\u001b[0mmatch\u001b[0m\u001b[0;34m.\u001b[0m\u001b[0mgroup\u001b[0m\u001b[0;34m(\u001b[0m\u001b[0;36m1\u001b[0m\u001b[0;34m)\u001b[0m \u001b[0;34m+\u001b[0m \u001b[0;34m'\\nEnter your authorization code:\\n'\u001b[0m\u001b[0;34m\u001b[0m\u001b[0;34m\u001b[0m\u001b[0m\n\u001b[1;32m    236\u001b[0m       \u001b[0;32mwith\u001b[0m \u001b[0mopen\u001b[0m\u001b[0;34m(\u001b[0m\u001b[0mfifo\u001b[0m\u001b[0;34m,\u001b[0m \u001b[0;34m'w'\u001b[0m\u001b[0;34m)\u001b[0m \u001b[0;32mas\u001b[0m \u001b[0mfifo_file\u001b[0m\u001b[0;34m:\u001b[0m\u001b[0;34m\u001b[0m\u001b[0;34m\u001b[0m\u001b[0m\n\u001b[0;32m--> 237\u001b[0;31m         \u001b[0mfifo_file\u001b[0m\u001b[0;34m.\u001b[0m\u001b[0mwrite\u001b[0m\u001b[0;34m(\u001b[0m\u001b[0m_getpass\u001b[0m\u001b[0;34m.\u001b[0m\u001b[0mgetpass\u001b[0m\u001b[0;34m(\u001b[0m\u001b[0mauth_prompt\u001b[0m\u001b[0;34m)\u001b[0m \u001b[0;34m+\u001b[0m \u001b[0;34m'\\n'\u001b[0m\u001b[0;34m)\u001b[0m\u001b[0;34m\u001b[0m\u001b[0;34m\u001b[0m\u001b[0m\n\u001b[0m\u001b[1;32m    238\u001b[0m       \u001b[0mwrote_to_fifo\u001b[0m \u001b[0;34m=\u001b[0m \u001b[0;32mTrue\u001b[0m\u001b[0;34m\u001b[0m\u001b[0;34m\u001b[0m\u001b[0m\n\u001b[1;32m    239\u001b[0m   \u001b[0;32mif\u001b[0m \u001b[0;32mnot\u001b[0m \u001b[0mwrote_to_fifo\u001b[0m\u001b[0;34m:\u001b[0m\u001b[0;34m\u001b[0m\u001b[0;34m\u001b[0m\u001b[0m\n",
            "\u001b[0;32m/usr/local/lib/python3.6/dist-packages/ipykernel/kernelbase.py\u001b[0m in \u001b[0;36mgetpass\u001b[0;34m(self, prompt, stream)\u001b[0m\n\u001b[1;32m    686\u001b[0m             \u001b[0mself\u001b[0m\u001b[0;34m.\u001b[0m\u001b[0m_parent_ident\u001b[0m\u001b[0;34m,\u001b[0m\u001b[0;34m\u001b[0m\u001b[0;34m\u001b[0m\u001b[0m\n\u001b[1;32m    687\u001b[0m             \u001b[0mself\u001b[0m\u001b[0;34m.\u001b[0m\u001b[0m_parent_header\u001b[0m\u001b[0;34m,\u001b[0m\u001b[0;34m\u001b[0m\u001b[0;34m\u001b[0m\u001b[0m\n\u001b[0;32m--> 688\u001b[0;31m             \u001b[0mpassword\u001b[0m\u001b[0;34m=\u001b[0m\u001b[0;32mTrue\u001b[0m\u001b[0;34m,\u001b[0m\u001b[0;34m\u001b[0m\u001b[0;34m\u001b[0m\u001b[0m\n\u001b[0m\u001b[1;32m    689\u001b[0m         )\n\u001b[1;32m    690\u001b[0m \u001b[0;34m\u001b[0m\u001b[0m\n",
            "\u001b[0;32m/usr/local/lib/python3.6/dist-packages/ipykernel/kernelbase.py\u001b[0m in \u001b[0;36m_input_request\u001b[0;34m(self, prompt, ident, parent, password)\u001b[0m\n\u001b[1;32m    733\u001b[0m             \u001b[0;32mexcept\u001b[0m \u001b[0mKeyboardInterrupt\u001b[0m\u001b[0;34m:\u001b[0m\u001b[0;34m\u001b[0m\u001b[0;34m\u001b[0m\u001b[0m\n\u001b[1;32m    734\u001b[0m                 \u001b[0;31m# re-raise KeyboardInterrupt, to truncate traceback\u001b[0m\u001b[0;34m\u001b[0m\u001b[0;34m\u001b[0m\u001b[0;34m\u001b[0m\u001b[0m\n\u001b[0;32m--> 735\u001b[0;31m                 \u001b[0;32mraise\u001b[0m \u001b[0mKeyboardInterrupt\u001b[0m\u001b[0;34m\u001b[0m\u001b[0;34m\u001b[0m\u001b[0m\n\u001b[0m\u001b[1;32m    736\u001b[0m             \u001b[0;32melse\u001b[0m\u001b[0;34m:\u001b[0m\u001b[0;34m\u001b[0m\u001b[0;34m\u001b[0m\u001b[0m\n\u001b[1;32m    737\u001b[0m                 \u001b[0;32mbreak\u001b[0m\u001b[0;34m\u001b[0m\u001b[0;34m\u001b[0m\u001b[0m\n",
            "\u001b[0;31mKeyboardInterrupt\u001b[0m: "
          ]
        }
      ]
    },
    {
      "cell_type": "code",
      "metadata": {
        "id": "EVKbQL8_Dz_F",
        "colab_type": "code",
        "colab": {}
      },
      "source": [
        "csv_file = pd.read_csv(\"/content/gdrive/My Drive/fer2013.csv\")"
      ],
      "execution_count": 0,
      "outputs": []
    },
    {
      "cell_type": "code",
      "metadata": {
        "id": "DPMerWtNTHqd",
        "colab_type": "code",
        "colab": {}
      },
      "source": [
        "len(csv_file)"
      ],
      "execution_count": 0,
      "outputs": []
    },
    {
      "cell_type": "code",
      "metadata": {
        "id": "4hhUdvcnTkwH",
        "colab_type": "code",
        "colab": {}
      },
      "source": [
        "len(csv_file.loc[csv_file['pixels'] != 1])"
      ],
      "execution_count": 0,
      "outputs": []
    },
    {
      "cell_type": "code",
      "metadata": {
        "id": "aTAlGo67Tk42",
        "colab_type": "code",
        "colab": {}
      },
      "source": [
        ""
      ],
      "execution_count": 0,
      "outputs": []
    },
    {
      "cell_type": "code",
      "metadata": {
        "id": "ZUMXYdjUD0lf",
        "colab_type": "code",
        "colab": {}
      },
      "source": [
        "csv_file = csv_file.loc[csv_file['emotion'] != 1]\n",
        "faces = csv_file['pixels'].tolist()\n",
        "emotions = csv_file['emotion'].tolist()"
      ],
      "execution_count": 0,
      "outputs": []
    },
    {
      "cell_type": "code",
      "metadata": {
        "id": "XEfK_M-SRsoO",
        "colab_type": "code",
        "colab": {}
      },
      "source": [
        "for i in range(len(emotions)):\n",
        "  if emotions[i] != 0:\n",
        "    emotions[i] -= 1"
      ],
      "execution_count": 0,
      "outputs": []
    },
    {
      "cell_type": "code",
      "metadata": {
        "id": "QkleErwxD08h",
        "colab_type": "code",
        "colab": {}
      },
      "source": [
        "for i in range(len(faces)):\n",
        "  faces[i] = np.array(faces[i].split()).reshape(48, 48).astype('float32')\n",
        "  \n"
      ],
      "execution_count": 0,
      "outputs": []
    },
    {
      "cell_type": "code",
      "metadata": {
        "id": "RNF0gkW1D1BA",
        "colab_type": "code",
        "colab": {}
      },
      "source": [
        "faces = np.array(faces)\n",
        "emotions = np.array(emotions)"
      ],
      "execution_count": 0,
      "outputs": []
    },
    {
      "cell_type": "code",
      "metadata": {
        "id": "Sbl48Y2jS8Bp",
        "colab_type": "code",
        "outputId": "c1bb7a72-7aa3-445c-b601-df48c0f1a925",
        "colab": {
          "base_uri": "https://localhost:8080/",
          "height": 35
        }
      },
      "source": [
        "len(faces)"
      ],
      "execution_count": 0,
      "outputs": [
        {
          "output_type": "execute_result",
          "data": {
            "text/plain": [
              "35340"
            ]
          },
          "metadata": {
            "tags": []
          },
          "execution_count": 38
        }
      ]
    },
    {
      "cell_type": "code",
      "metadata": {
        "id": "K9LdU8-zD0gp",
        "colab_type": "code",
        "colab": {}
      },
      "source": [
        "X = faces\n",
        "y = emotions"
      ],
      "execution_count": 0,
      "outputs": []
    },
    {
      "cell_type": "code",
      "metadata": {
        "id": "PEv4CVYWD0es",
        "colab_type": "code",
        "outputId": "4b533cc9-908a-47e0-9ca7-85cca010bc16",
        "colab": {
          "base_uri": "https://localhost:8080/",
          "height": 35
        }
      },
      "source": [
        "len(emotions)"
      ],
      "execution_count": 0,
      "outputs": [
        {
          "output_type": "execute_result",
          "data": {
            "text/plain": [
              "35340"
            ]
          },
          "metadata": {
            "tags": []
          },
          "execution_count": 40
        }
      ]
    },
    {
      "cell_type": "code",
      "metadata": {
        "id": "Ds3ePW-tD0cC",
        "colab_type": "code",
        "colab": {}
      },
      "source": [
        ""
      ],
      "execution_count": 0,
      "outputs": []
    },
    {
      "cell_type": "code",
      "metadata": {
        "id": "0-P0afCUD0Yw",
        "colab_type": "code",
        "colab": {}
      },
      "source": [
        ""
      ],
      "execution_count": 0,
      "outputs": []
    },
    {
      "cell_type": "code",
      "metadata": {
        "id": "HLKijVHY1iJv",
        "colab_type": "code",
        "colab": {}
      },
      "source": [
        "mypath = \"gdrive/My Drive/jaffe\"\n",
        "onlyfiles = [f for f in listdir(mypath) if isfile(join(mypath, f))][1:]"
      ],
      "execution_count": 0,
      "outputs": []
    },
    {
      "cell_type": "code",
      "metadata": {
        "id": "BTn5GQMp1iJx",
        "colab_type": "code",
        "outputId": "d4d78b91-9d37-4cf8-fed1-4fcb3927ce0e",
        "colab": {
          "base_uri": "https://localhost:8080/",
          "height": 35
        }
      },
      "source": [
        "len(onlyfiles)"
      ],
      "execution_count": 0,
      "outputs": [
        {
          "output_type": "execute_result",
          "data": {
            "text/plain": [
              "214"
            ]
          },
          "metadata": {
            "tags": []
          },
          "execution_count": 44
        }
      ]
    },
    {
      "cell_type": "code",
      "metadata": {
        "id": "ogRZD-M91iJ5",
        "colab_type": "code",
        "colab": {}
      },
      "source": [
        "onlyfiles.remove('README')"
      ],
      "execution_count": 0,
      "outputs": []
    },
    {
      "cell_type": "code",
      "metadata": {
        "id": "UsTDQQwm1iJ7",
        "colab_type": "code",
        "colab": {}
      },
      "source": [
        "onlyfiles = np.array(onlyfiles)"
      ],
      "execution_count": 0,
      "outputs": []
    },
    {
      "cell_type": "code",
      "metadata": {
        "id": "aP2_0cHy1iJ-",
        "colab_type": "code",
        "colab": {}
      },
      "source": [
        "imotions = {'AN':0, 'FE':1, 'HA':2, 'SA':3,\n",
        "                'SU':4, 'NE':5}"
      ],
      "execution_count": 0,
      "outputs": []
    },
    {
      "cell_type": "code",
      "metadata": {
        "id": "3KTsDb0p1iKA",
        "colab_type": "code",
        "colab": {}
      },
      "source": [
        "X = []\n",
        "y = []\n",
        "np.random.shuffle(onlyfiles)\n",
        "for i in onlyfiles:\n",
        "    img = cv2.imread(mypath + '/' + i)\n",
        "    img = cv2.cvtColor(img, cv2.COLOR_BGR2GRAY)\n",
        "    dim = (160, 160)\n",
        "    img = cv2.resize(img, dim, interpolation = cv2.INTER_AREA)\n",
        "    X.append(img)\n",
        "    y.append(imotions[i[3:5]])"
      ],
      "execution_count": 0,
      "outputs": []
    },
    {
      "cell_type": "code",
      "metadata": {
        "id": "wDGRAuGM-5XJ",
        "colab_type": "code",
        "colab": {}
      },
      "source": [
        "mypath1 = \"gdrive/My Drive/owndata\""
      ],
      "execution_count": 0,
      "outputs": []
    },
    {
      "cell_type": "code",
      "metadata": {
        "id": "8JOIoBN2-5iR",
        "colab_type": "code",
        "colab": {}
      },
      "source": [
        "onlyfiles1 = np.array([f for f in listdir(mypath1) if isfile(join(mypath1, f))])"
      ],
      "execution_count": 0,
      "outputs": []
    },
    {
      "cell_type": "code",
      "metadata": {
        "id": "qZhuQj9C-5s9",
        "colab_type": "code",
        "colab": {}
      },
      "source": [
        "np.random.shuffle(onlyfiles1)\n",
        "for i in onlyfiles1:\n",
        "    img = cv2.imread(mypath1 + '/' + i)\n",
        "    img = cv2.cvtColor(img, cv2.COLOR_BGR2GRAY)\n",
        "    dim = (160, 160)\n",
        "    img = cv2.resize(img, dim, interpolation = cv2.INTER_AREA)\n",
        "    X.append(img)\n",
        "    y.append(int(i[0]) - 1)\n",
        "    \n",
        "dataset = np.array(X)\n",
        "y = np.array(y)"
      ],
      "execution_count": 0,
      "outputs": []
    },
    {
      "cell_type": "code",
      "metadata": {
        "id": "y0YFA4HH-52G",
        "colab_type": "code",
        "outputId": "63b33792-331b-46e2-fc00-7d2c31fc4b3a",
        "colab": {
          "base_uri": "https://localhost:8080/",
          "height": 35
        }
      },
      "source": [
        "len(X)"
      ],
      "execution_count": 0,
      "outputs": [
        {
          "output_type": "execute_result",
          "data": {
            "text/plain": [
              "35340"
            ]
          },
          "metadata": {
            "tags": []
          },
          "execution_count": 41
        }
      ]
    },
    {
      "cell_type": "code",
      "metadata": {
        "id": "c3w2MZdj1iKC",
        "colab_type": "code",
        "colab": {}
      },
      "source": [
        "from sklearn.model_selection import train_test_split"
      ],
      "execution_count": 0,
      "outputs": []
    },
    {
      "cell_type": "code",
      "metadata": {
        "id": "RO8Ug6KA1iKE",
        "colab_type": "code",
        "colab": {}
      },
      "source": [
        "X_train, X_test, y_train, y_test = train_test_split(\n",
        "    X, y, test_size=0.10)\n",
        "X_train1, X_test1, y_train1, y_test1 = X_train, X_test, y_train, y_test"
      ],
      "execution_count": 0,
      "outputs": []
    },
    {
      "cell_type": "code",
      "metadata": {
        "id": "ezmSwlel1iKI",
        "colab_type": "code",
        "colab": {}
      },
      "source": [
        "X_train = np.array(X_train)\n",
        "X_test = np.array(X_test)\n",
        "y_train = np.array(y_train)\n",
        "y_test = np.array(y_test)"
      ],
      "execution_count": 0,
      "outputs": []
    },
    {
      "cell_type": "code",
      "metadata": {
        "id": "NiPemJoXs9UI",
        "colab_type": "code",
        "colab": {}
      },
      "source": [
        ""
      ],
      "execution_count": 0,
      "outputs": []
    },
    {
      "cell_type": "code",
      "metadata": {
        "id": "Ij1V_HZb1iKN",
        "colab_type": "code",
        "colab": {}
      },
      "source": [
        "def convert_dtype(x):\n",
        "    \"\"\"\n",
        "    Inputs:\n",
        "        x: numpy array\n",
        "    Outputs:\n",
        "        x_float: numpy array, dtype of elements changed to 'float32'\n",
        "    \"\"\"\n",
        "    # YOUR CODE HERE\n",
        "    x_float = x.astype('float32')\n",
        "    return x_float\n",
        "\n",
        "X_train = convert_dtype(X_train)\n",
        "X_test = convert_dtype(X_test)"
      ],
      "execution_count": 0,
      "outputs": []
    },
    {
      "cell_type": "code",
      "metadata": {
        "id": "8cQDVdCvrblU",
        "colab_type": "code",
        "outputId": "aacbe233-8da6-4f2b-e19a-e648065b1e3a",
        "colab": {
          "base_uri": "https://localhost:8080/",
          "height": 83
        }
      },
      "source": [
        "from google.colab.patches import cv2_imshow\n",
        "cv2_imshow(X_test1[5])\n",
        "print(y_test1[5])"
      ],
      "execution_count": 0,
      "outputs": [
        {
          "output_type": "display_data",
          "data": {
            "image/png": "[encoded data removed]",
            "text/plain": [
              "<PIL.Image.Image image mode=L size=48x48 at 0x7F7E0A1B46A0>"
            ]
          },
          "metadata": {
            "tags": []
          }
        },
        {
          "output_type": "stream",
          "text": [
            "1\n"
          ],
          "name": "stdout"
        }
      ]
    },
    {
      "cell_type": "code",
      "metadata": {
        "id": "e1SViHy91iKP",
        "colab_type": "code",
        "colab": {}
      },
      "source": [
        "def normalize(x):\n",
        "    \"\"\"\n",
        "    Inputs:\n",
        "        x: numpy array\n",
        "    Outputs:\n",
        "        x_n: numpy array, elements normalized to be between (0, 1)\n",
        "    \"\"\"    \n",
        "    # YOUR CODE HERE\n",
        "    x_n = (x - 0)/(255)\n",
        "    return x_n\n",
        "    \n",
        "X_train = normalize(X_train)\n",
        "X_test = normalize(X_test) \n"
      ],
      "execution_count": 0,
      "outputs": []
    },
    {
      "cell_type": "code",
      "metadata": {
        "id": "lW7cf28H1iKS",
        "colab_type": "code",
        "colab": {}
      },
      "source": [
        "def reshape(x):\n",
        "    \"\"\"\n",
        "    We need to reshape our train_data to be of shape (samples, height, width, channels) pass to Conv2D layer of keras\n",
        "    Inputs:\n",
        "        x: numpy array of shape(samples, height, width)\n",
        "    Outputs:\n",
        "        x_r: numpy array of shape(samples, height, width, 1)\n",
        "    \"\"\"\n",
        "    # YOUR CODE HERE\n",
        "    x_r = x.reshape((x.shape[0], x.shape[1], x.shape[2], 1))\n",
        "    return x_r\n",
        "\n",
        "X_train = reshape(X_train)\n",
        "X_test = reshape(X_test) "
      ],
      "execution_count": 0,
      "outputs": []
    },
    {
      "cell_type": "code",
      "metadata": {
        "id": "nl2axERL1iKV",
        "colab_type": "code",
        "colab": {}
      },
      "source": [
        "def oneHot(y, Ny):\n",
        "    \"\"\"\n",
        "    Inputs:\n",
        "        y: numpy array if shape (samples, ) with class labels\n",
        "        Ny: number of classes\n",
        "    Outputs:\n",
        "        y_oh: numpy array of shape (samples, Ny) of one hot vectors\n",
        "    \"\"\"\n",
        "    # YOUR CODE HERE\n",
        "    y_oh = np.zeros((len(y), Ny))\n",
        "    for i in range(len(y)):\n",
        "      y_oh[i][y[i]] = 1\n",
        "    return y_oh\n",
        "\n",
        "# example\n",
        "y_train = oneHot(y_train, 6)\n",
        "y_test = oneHot(y_test, 6)"
      ],
      "execution_count": 0,
      "outputs": []
    },
    {
      "cell_type": "code",
      "metadata": {
        "id": "dR1AWMwT1iKa",
        "colab_type": "code",
        "colab": {}
      },
      "source": [
        "from keras.layers import Activation, Convolution2D, Dropout, Conv2D\n",
        "from keras.layers import AveragePooling2D, BatchNormalization\n",
        "from keras.layers import GlobalAveragePooling2D\n",
        "from keras.models import Sequential\n",
        "from keras.layers import Flatten\n",
        "from keras.models import Model\n",
        "from keras.layers import Input\n",
        "from keras.layers import MaxPooling2D\n",
        "from keras.layers import SeparableConv2D\n",
        "from keras import layers\n",
        "from keras.regularizers import l2\n",
        "\n",
        "\n",
        "def create_model():\n",
        "    \"\"\"\n",
        "    Inputs:\n",
        "        None\n",
        "    Outputs:\n",
        "        model: compiled keras model\n",
        "    \"\"\"\n",
        "    # YOUR CODE HERE\n",
        "    def mini_XCEPTION(input_shape, num_classes, l2_regularization=0.01):\n",
        "        regularization = l2(l2_regularization)\n",
        "\n",
        "        # base\n",
        "        img_input = Input(input_shape)\n",
        "        x = Conv2D(8, (3, 3), strides=(1, 1), kernel_regularizer=regularization,\n",
        "                   use_bias=False)(img_input)\n",
        "        x = BatchNormalization()(x)\n",
        "        x = Activation('relu')(x)\n",
        "        x = Conv2D(8, (3, 3), strides=(1, 1), kernel_regularizer=regularization,\n",
        "                   use_bias=False)(x)\n",
        "        x = BatchNormalization()(x)\n",
        "        x = Activation('relu')(x)\n",
        "\n",
        "        # module 1\n",
        "        residual = Conv2D(16, (1, 1), strides=(2, 2),\n",
        "                          padding='same', use_bias=False)(x)\n",
        "        residual = BatchNormalization()(residual)\n",
        "\n",
        "        x = SeparableConv2D(16, (3, 3), padding='same',\n",
        "                            kernel_regularizer=regularization,\n",
        "                            use_bias=False)(x)\n",
        "        x = BatchNormalization()(x)\n",
        "        x = Activation('relu')(x)\n",
        "        x = SeparableConv2D(16, (3, 3), padding='same',\n",
        "                            kernel_regularizer=regularization,\n",
        "                            use_bias=False)(x)\n",
        "        x = BatchNormalization()(x)\n",
        "\n",
        "        x = MaxPooling2D((3, 3), strides=(2, 2), padding='same')(x)\n",
        "        x = layers.add([x, residual])\n",
        "\n",
        "        # module 2\n",
        "        residual = Conv2D(32, (1, 1), strides=(2, 2),\n",
        "                          padding='same', use_bias=False)(x)\n",
        "        residual = BatchNormalization()(residual)\n",
        "\n",
        "        x = SeparableConv2D(32, (3, 3), padding='same',\n",
        "                            kernel_regularizer=regularization,\n",
        "                            use_bias=False)(x)\n",
        "        x = BatchNormalization()(x)\n",
        "        x = Activation('relu')(x)\n",
        "        x = SeparableConv2D(32, (3, 3), padding='same',\n",
        "                            kernel_regularizer=regularization,\n",
        "                            use_bias=False)(x)\n",
        "        x = BatchNormalization()(x)\n",
        "\n",
        "        x = MaxPooling2D((3, 3), strides=(2, 2), padding='same')(x)\n",
        "        x = layers.add([x, residual])\n",
        "\n",
        "        # module 3\n",
        "        residual = Conv2D(64, (1, 1), strides=(2, 2),\n",
        "                          padding='same', use_bias=False)(x)\n",
        "        residual = BatchNormalization()(residual)\n",
        "\n",
        "        x = SeparableConv2D(64, (3, 3), padding='same',\n",
        "                            kernel_regularizer=regularization,\n",
        "                            use_bias=False)(x)\n",
        "        x = BatchNormalization()(x)\n",
        "        x = Activation('relu')(x)\n",
        "        x = SeparableConv2D(64, (3, 3), padding='same',\n",
        "                            kernel_regularizer=regularization,\n",
        "                            use_bias=False)(x)\n",
        "        x = BatchNormalization()(x)\n",
        "\n",
        "        x = MaxPooling2D((3, 3), strides=(2, 2), padding='same')(x)\n",
        "        x = layers.add([x, residual])\n",
        "\n",
        "        # module 4\n",
        "        residual = Conv2D(128, (1, 1), strides=(2, 2),\n",
        "                          padding='same', use_bias=False)(x)\n",
        "        residual = BatchNormalization()(residual)\n",
        "\n",
        "        x = SeparableConv2D(128, (3, 3), padding='same',\n",
        "                            kernel_regularizer=regularization,\n",
        "                            use_bias=False)(x)\n",
        "        x = BatchNormalization()(x)\n",
        "        x = Activation('relu')(x)\n",
        "        x = SeparableConv2D(128, (3, 3), padding='same',\n",
        "                            kernel_regularizer=regularization,\n",
        "                            use_bias=False)(x)\n",
        "        x = BatchNormalization()(x)\n",
        "\n",
        "        x = MaxPooling2D((3, 3), strides=(2, 2), padding='same')(x)\n",
        "        x = layers.add([x, residual])\n",
        "\n",
        "        x = Conv2D(num_classes, (3, 3),\n",
        "                   # kernel_regularizer=regularization,\n",
        "                   padding='same')(x)\n",
        "        x = GlobalAveragePooling2D()(x)\n",
        "        output = Activation('softmax', name='predictions')(x)\n",
        "\n",
        "        model = Model(img_input, output)\n",
        "        return model\n",
        "    model = mini_XCEPTION((48, 48, 1), 6)\n",
        "    model.compile(optimizer='rmsprop', loss='categorical_crossentropy',\n",
        "              metrics=['accuracy'])\n",
        "\n",
        "    return model\n",
        "\n",
        "model = create_model()"
      ],
      "execution_count": 0,
      "outputs": []
    },
    {
      "cell_type": "code",
      "metadata": {
        "id": "FWIMXWwz1iKb",
        "colab_type": "code",
        "outputId": "c5111096-92bf-4f24-b9b7-cf10104ccf0c",
        "colab": {
          "base_uri": "https://localhost:8080/",
          "height": 1000
        }
      },
      "source": [
        "model.summary()"
      ],
      "execution_count": 0,
      "outputs": [
        {
          "output_type": "stream",
          "text": [
            "__________________________________________________________________________________________________\n",
            "Layer (type)                    Output Shape         Param #     Connected to                     \n",
            "==================================================================================================\n",
            "input_5 (InputLayer)            (None, 48, 48, 1)    0                                            \n",
            "__________________________________________________________________________________________________\n",
            "conv2d_29 (Conv2D)              (None, 46, 46, 8)    72          input_5[0][0]                    \n",
            "__________________________________________________________________________________________________\n",
            "batch_normalization_57 (BatchNo (None, 46, 46, 8)    32          conv2d_29[0][0]                  \n",
            "__________________________________________________________________________________________________\n",
            "activation_25 (Activation)      (None, 46, 46, 8)    0           batch_normalization_57[0][0]     \n",
            "__________________________________________________________________________________________________\n",
            "conv2d_30 (Conv2D)              (None, 44, 44, 8)    576         activation_25[0][0]              \n",
            "__________________________________________________________________________________________________\n",
            "batch_normalization_58 (BatchNo (None, 44, 44, 8)    32          conv2d_30[0][0]                  \n",
            "__________________________________________________________________________________________________\n",
            "activation_26 (Activation)      (None, 44, 44, 8)    0           batch_normalization_58[0][0]     \n",
            "__________________________________________________________________________________________________\n",
            "separable_conv2d_33 (SeparableC (None, 44, 44, 16)   200         activation_26[0][0]              \n",
            "__________________________________________________________________________________________________\n",
            "batch_normalization_60 (BatchNo (None, 44, 44, 16)   64          separable_conv2d_33[0][0]        \n",
            "__________________________________________________________________________________________________\n",
            "activation_27 (Activation)      (None, 44, 44, 16)   0           batch_normalization_60[0][0]     \n",
            "__________________________________________________________________________________________________\n",
            "separable_conv2d_34 (SeparableC (None, 44, 44, 16)   400         activation_27[0][0]              \n",
            "__________________________________________________________________________________________________\n",
            "batch_normalization_61 (BatchNo (None, 44, 44, 16)   64          separable_conv2d_34[0][0]        \n",
            "__________________________________________________________________________________________________\n",
            "conv2d_31 (Conv2D)              (None, 22, 22, 16)   128         activation_26[0][0]              \n",
            "__________________________________________________________________________________________________\n",
            "max_pooling2d_17 (MaxPooling2D) (None, 22, 22, 16)   0           batch_normalization_61[0][0]     \n",
            "__________________________________________________________________________________________________\n",
            "batch_normalization_59 (BatchNo (None, 22, 22, 16)   64          conv2d_31[0][0]                  \n",
            "__________________________________________________________________________________________________\n",
            "add_17 (Add)                    (None, 22, 22, 16)   0           max_pooling2d_17[0][0]           \n",
            "                                                                 batch_normalization_59[0][0]     \n",
            "__________________________________________________________________________________________________\n",
            "separable_conv2d_35 (SeparableC (None, 22, 22, 32)   656         add_17[0][0]                     \n",
            "__________________________________________________________________________________________________\n",
            "batch_normalization_63 (BatchNo (None, 22, 22, 32)   128         separable_conv2d_35[0][0]        \n",
            "__________________________________________________________________________________________________\n",
            "activation_28 (Activation)      (None, 22, 22, 32)   0           batch_normalization_63[0][0]     \n",
            "__________________________________________________________________________________________________\n",
            "separable_conv2d_36 (SeparableC (None, 22, 22, 32)   1312        activation_28[0][0]              \n",
            "__________________________________________________________________________________________________\n",
            "batch_normalization_64 (BatchNo (None, 22, 22, 32)   128         separable_conv2d_36[0][0]        \n",
            "__________________________________________________________________________________________________\n",
            "conv2d_32 (Conv2D)              (None, 11, 11, 32)   512         add_17[0][0]                     \n",
            "__________________________________________________________________________________________________\n",
            "max_pooling2d_18 (MaxPooling2D) (None, 11, 11, 32)   0           batch_normalization_64[0][0]     \n",
            "__________________________________________________________________________________________________\n",
            "batch_normalization_62 (BatchNo (None, 11, 11, 32)   128         conv2d_32[0][0]                  \n",
            "__________________________________________________________________________________________________\n",
            "add_18 (Add)                    (None, 11, 11, 32)   0           max_pooling2d_18[0][0]           \n",
            "                                                                 batch_normalization_62[0][0]     \n",
            "__________________________________________________________________________________________________\n",
            "separable_conv2d_37 (SeparableC (None, 11, 11, 64)   2336        add_18[0][0]                     \n",
            "__________________________________________________________________________________________________\n",
            "batch_normalization_66 (BatchNo (None, 11, 11, 64)   256         separable_conv2d_37[0][0]        \n",
            "__________________________________________________________________________________________________\n",
            "activation_29 (Activation)      (None, 11, 11, 64)   0           batch_normalization_66[0][0]     \n",
            "__________________________________________________________________________________________________\n",
            "separable_conv2d_38 (SeparableC (None, 11, 11, 64)   4672        activation_29[0][0]              \n",
            "__________________________________________________________________________________________________\n",
            "batch_normalization_67 (BatchNo (None, 11, 11, 64)   256         separable_conv2d_38[0][0]        \n",
            "__________________________________________________________________________________________________\n",
            "conv2d_33 (Conv2D)              (None, 6, 6, 64)     2048        add_18[0][0]                     \n",
            "__________________________________________________________________________________________________\n",
            "max_pooling2d_19 (MaxPooling2D) (None, 6, 6, 64)     0           batch_normalization_67[0][0]     \n",
            "__________________________________________________________________________________________________\n",
            "batch_normalization_65 (BatchNo (None, 6, 6, 64)     256         conv2d_33[0][0]                  \n",
            "__________________________________________________________________________________________________\n",
            "add_19 (Add)                    (None, 6, 6, 64)     0           max_pooling2d_19[0][0]           \n",
            "                                                                 batch_normalization_65[0][0]     \n",
            "__________________________________________________________________________________________________\n",
            "separable_conv2d_39 (SeparableC (None, 6, 6, 128)    8768        add_19[0][0]                     \n",
            "__________________________________________________________________________________________________\n",
            "batch_normalization_69 (BatchNo (None, 6, 6, 128)    512         separable_conv2d_39[0][0]        \n",
            "__________________________________________________________________________________________________\n",
            "activation_30 (Activation)      (None, 6, 6, 128)    0           batch_normalization_69[0][0]     \n",
            "__________________________________________________________________________________________________\n",
            "separable_conv2d_40 (SeparableC (None, 6, 6, 128)    17536       activation_30[0][0]              \n",
            "__________________________________________________________________________________________________\n",
            "batch_normalization_70 (BatchNo (None, 6, 6, 128)    512         separable_conv2d_40[0][0]        \n",
            "__________________________________________________________________________________________________\n",
            "conv2d_34 (Conv2D)              (None, 3, 3, 128)    8192        add_19[0][0]                     \n",
            "__________________________________________________________________________________________________\n",
            "max_pooling2d_20 (MaxPooling2D) (None, 3, 3, 128)    0           batch_normalization_70[0][0]     \n",
            "__________________________________________________________________________________________________\n",
            "batch_normalization_68 (BatchNo (None, 3, 3, 128)    512         conv2d_34[0][0]                  \n",
            "__________________________________________________________________________________________________\n",
            "add_20 (Add)                    (None, 3, 3, 128)    0           max_pooling2d_20[0][0]           \n",
            "                                                                 batch_normalization_68[0][0]     \n",
            "__________________________________________________________________________________________________\n",
            "conv2d_35 (Conv2D)              (None, 3, 3, 6)      6918        add_20[0][0]                     \n",
            "__________________________________________________________________________________________________\n",
            "global_average_pooling2d_5 (Glo (None, 6)            0           conv2d_35[0][0]                  \n",
            "__________________________________________________________________________________________________\n",
            "predictions (Activation)        (None, 6)            0           global_average_pooling2d_5[0][0] \n",
            "==================================================================================================\n",
            "Total params: 57,270\n",
            "Trainable params: 55,798\n",
            "Non-trainable params: 1,472\n",
            "__________________________________________________________________________________________________\n"
          ],
          "name": "stdout"
        }
      ]
    },
    {
      "cell_type": "code",
      "metadata": {
        "id": "_ZNVqb581iKf",
        "colab_type": "code",
        "outputId": "25ec09eb-3a40-4acd-c84b-8f220207447a",
        "colab": {
          "base_uri": "https://localhost:8080/",
          "height": 746
        }
      },
      "source": [
        "history = model.fit(X_train, y_train, validation_split = 0.1, epochs=20, batch_size=200)"
      ],
      "execution_count": 0,
      "outputs": [
        {
          "output_type": "stream",
          "text": [
            "Train on 28625 samples, validate on 3181 samples\n",
            "Epoch 1/20\n",
            "28625/28625 [==============================] - 278s 10ms/step - loss: 0.9845 - acc: 0.6358 - val_loss: 1.9543 - val_acc: 0.4637\n",
            "Epoch 2/20\n",
            "28625/28625 [==============================] - 278s 10ms/step - loss: 0.9507 - acc: 0.6471 - val_loss: 1.8267 - val_acc: 0.3989\n",
            "Epoch 3/20\n",
            "28625/28625 [==============================] - 277s 10ms/step - loss: 0.9230 - acc: 0.6643 - val_loss: 1.5575 - val_acc: 0.5039\n",
            "Epoch 4/20\n",
            "28625/28625 [==============================] - 276s 10ms/step - loss: 0.8857 - acc: 0.6756 - val_loss: 1.5228 - val_acc: 0.4942\n",
            "Epoch 5/20\n",
            "28625/28625 [==============================] - 277s 10ms/step - loss: 0.8669 - acc: 0.6787 - val_loss: 1.5378 - val_acc: 0.5156\n",
            "Epoch 6/20\n",
            "28625/28625 [==============================] - 276s 10ms/step - loss: 0.8334 - acc: 0.6988 - val_loss: 1.9191 - val_acc: 0.4467\n",
            "Epoch 7/20\n",
            "28625/28625 [==============================] - 276s 10ms/step - loss: 0.8128 - acc: 0.7028 - val_loss: 1.9161 - val_acc: 0.4609\n",
            "Epoch 8/20\n",
            "28625/28625 [==============================] - 277s 10ms/step - loss: 0.7896 - acc: 0.7141 - val_loss: 2.3012 - val_acc: 0.3980\n",
            "Epoch 9/20\n",
            "28625/28625 [==============================] - 278s 10ms/step - loss: 0.7602 - acc: 0.7249 - val_loss: 1.7494 - val_acc: 0.4637\n",
            "Epoch 10/20\n",
            "28625/28625 [==============================] - 277s 10ms/step - loss: 0.7370 - acc: 0.7355 - val_loss: 1.5425 - val_acc: 0.4866\n",
            "Epoch 11/20\n",
            "28625/28625 [==============================] - 274s 10ms/step - loss: 0.7082 - acc: 0.7458 - val_loss: 2.5237 - val_acc: 0.4071\n",
            "Epoch 12/20\n",
            "28625/28625 [==============================] - 275s 10ms/step - loss: 0.6951 - acc: 0.7490 - val_loss: 1.7977 - val_acc: 0.4662\n",
            "Epoch 13/20\n",
            "28625/28625 [==============================] - 274s 10ms/step - loss: 0.6682 - acc: 0.7598 - val_loss: 1.7099 - val_acc: 0.4621\n",
            "Epoch 14/20\n",
            "28625/28625 [==============================] - 275s 10ms/step - loss: 0.6511 - acc: 0.7664 - val_loss: 1.7679 - val_acc: 0.4662\n",
            "Epoch 15/20\n",
            "28625/28625 [==============================] - 275s 10ms/step - loss: 0.6352 - acc: 0.7736 - val_loss: 1.8757 - val_acc: 0.4675\n",
            "Epoch 16/20\n",
            "28625/28625 [==============================] - 277s 10ms/step - loss: 0.6084 - acc: 0.7857 - val_loss: 2.1855 - val_acc: 0.4499\n",
            "Epoch 17/20\n",
            "28625/28625 [==============================] - 275s 10ms/step - loss: 0.5986 - acc: 0.7877 - val_loss: 2.0439 - val_acc: 0.4401\n",
            "Epoch 18/20\n",
            "28625/28625 [==============================] - 275s 10ms/step - loss: 0.5729 - acc: 0.8008 - val_loss: 2.9169 - val_acc: 0.3298\n",
            "Epoch 19/20\n",
            "28625/28625 [==============================] - 275s 10ms/step - loss: 0.5556 - acc: 0.8029 - val_loss: 2.0051 - val_acc: 0.4841\n",
            "Epoch 20/20\n",
            "28625/28625 [==============================] - 275s 10ms/step - loss: 0.5403 - acc: 0.8105 - val_loss: 3.1112 - val_acc: 0.3131\n"
          ],
          "name": "stdout"
        }
      ]
    },
    {
      "cell_type": "code",
      "metadata": {
        "id": "M_luUhAh1iKi",
        "colab_type": "code",
        "colab": {}
      },
      "source": [
        "def predict(x):\n",
        "    \"\"\"\n",
        "    Inputs:\n",
        "        x: input samples\n",
        "        model: keras model\n",
        "    Outputs:\n",
        "        y: predicted labels\n",
        "    \"\"\"\n",
        "    # YOUR CODE HERE\n",
        "    y = model.predict(x)\n",
        "    y1 = np.zeros(y.shape)\n",
        "    for i in range(len(y)):\n",
        "      y1[i][np.argmax(y[i])] = 1\n",
        "    y = y1\n",
        "    return y"
      ],
      "execution_count": 0,
      "outputs": []
    },
    {
      "cell_type": "code",
      "metadata": {
        "id": "KSO_f7CQDAkx",
        "colab_type": "code",
        "colab": {}
      },
      "source": [
        "def oneHot_tolabel(y):\n",
        "    \"\"\"\n",
        "    Inputs:\n",
        "        y: numpy array of shape (samples, Ny)\n",
        "    Outputs:\n",
        "        y_b: numpy array of shape (samples,) where one hot encoding is converted back to class labels\n",
        "    \"\"\"\n",
        "    # YOUR CODE HERE\n",
        "    y_b = []\n",
        "    for i in range(len(y)):\n",
        "      y_b.append(np.argmax(y[i]))\n",
        "      \n",
        "    y_b = np.array(y_b)\n",
        "    return y_b\n",
        "    "
      ],
      "execution_count": 0,
      "outputs": []
    },
    {
      "cell_type": "code",
      "metadata": {
        "id": "BsHh3nRiDDaT",
        "colab_type": "code",
        "colab": {}
      },
      "source": [
        "def create_confusion_matrix(true_labels, predicted_labels):\n",
        "    \"\"\"\n",
        "    Inputs:\n",
        "        true_labels: numpy array of shape (samples, ) with true_labels\n",
        "        test_labels: numpy array of shape(samples, ) with test_labels\n",
        "    Outputs:\n",
        "        cm: numpy array of shape (Ny, Ny), confusion matrix. Ny -> number of unique classes in y\n",
        "    \"\"\"\n",
        "    # YOUR CODE HERE\n",
        "    cm = np.zeros((7, 7))\n",
        "    for i in range(len(true_labels)):\n",
        "      if true_labels[i] == predicted_labels[i]:\n",
        "        cm[true_labels[i]][true_labels[i]] = cm[true_labels[i]][true_labels[i]] + 1\n",
        "      elif true_labels[i] != predicted_labels[i]:\n",
        "        cm[true_labels[i]][predicted_labels[i]] += 1\n",
        "    return cm"
      ],
      "execution_count": 0,
      "outputs": []
    },
    {
      "cell_type": "code",
      "metadata": {
        "id": "hpaBXNw0DGt1",
        "colab_type": "code",
        "colab": {}
      },
      "source": [
        "predicted_labels_train = predict(X_train)"
      ],
      "execution_count": 0,
      "outputs": []
    },
    {
      "cell_type": "code",
      "metadata": {
        "id": "nesu80JYDTcp",
        "colab_type": "code",
        "outputId": "1585330c-d7f3-4af7-9942-86707c4305cc",
        "colab": {
          "base_uri": "https://localhost:8080/",
          "height": 35
        }
      },
      "source": [
        "oneHot_tolabel(predicted_labels_train)"
      ],
      "execution_count": 0,
      "outputs": [
        {
          "output_type": "execute_result",
          "data": {
            "text/plain": [
              "array([4, 5, 5, ..., 4, 5, 4])"
            ]
          },
          "metadata": {
            "tags": []
          },
          "execution_count": 76
        }
      ]
    },
    {
      "cell_type": "code",
      "metadata": {
        "id": "D21NEkydxI-J",
        "colab_type": "code",
        "outputId": "ec931c01-f46a-45ba-c24b-d8d9fcede6e5",
        "colab": {
          "base_uri": "https://localhost:8080/",
          "height": 35
        }
      },
      "source": [
        "len(predicted_labels_train)"
      ],
      "execution_count": 0,
      "outputs": [
        {
          "output_type": "execute_result",
          "data": {
            "text/plain": [
              "31806"
            ]
          },
          "metadata": {
            "tags": []
          },
          "execution_count": 77
        }
      ]
    },
    {
      "cell_type": "code",
      "metadata": {
        "id": "2CG0_MB5DaTq",
        "colab_type": "code",
        "colab": {}
      },
      "source": [
        "cm = create_confusion_matrix(oneHot_tolabel(y_train), oneHot_tolabel(predict(X_train))).astype(int)"
      ],
      "execution_count": 0,
      "outputs": []
    },
    {
      "cell_type": "code",
      "metadata": {
        "id": "T0NfgTYbDf5H",
        "colab_type": "code",
        "outputId": "16c34741-0276-4b50-bd86-67b018a07b4d",
        "colab": {
          "base_uri": "https://localhost:8080/",
          "height": 141
        }
      },
      "source": [
        "print(cm)"
      ],
      "execution_count": 0,
      "outputs": [
        {
          "output_type": "stream",
          "text": [
            "[[1876  216    6   44 1651  696    0]\n",
            " [ 289 1129    8   89 2457  628    0]\n",
            " [ 500  297 1934   71 3615 1687    0]\n",
            " [ 440  506   17  737 2140 1647    0]\n",
            " [  18   13    3    4 3466   51    0]\n",
            " [ 233  165   10   59 1798 3306    0]\n",
            " [   0    0    0    0    0    0    0]]\n"
          ],
          "name": "stdout"
        }
      ]
    },
    {
      "cell_type": "code",
      "metadata": {
        "id": "YbiHn-lTDnfq",
        "colab_type": "code",
        "outputId": "cfb622cc-1b38-4908-8eda-1bee66d79180",
        "colab": {
          "base_uri": "https://localhost:8080/",
          "height": 269
        }
      },
      "source": [
        "history.history.keys()\n",
        "import matplotlib.pyplot as plt\n",
        "plt.plot(range(len(history.history['val_acc'])), history.history['val_acc'])\n",
        "plt.show()"
      ],
      "execution_count": 0,
      "outputs": [
        {
          "output_type": "display_data",
          "data": {
            "image/png": "[encoded data removed]",
            "text/plain": [
              "<Figure size 432x288 with 1 Axes>"
            ]
          },
          "metadata": {
            "tags": []
          }
        }
      ]
    },
    {
      "cell_type": "code",
      "metadata": {
        "id": "wY0X4KUeDrit",
        "colab_type": "code",
        "outputId": "d796250f-5999-426a-85ee-2883a786e5ac",
        "colab": {
          "base_uri": "https://localhost:8080/",
          "height": 52
        }
      },
      "source": [
        "def accuracy(x_test, y_test, model):\n",
        "    \"\"\"\n",
        "    Inputs:\n",
        "        x_test: test samples\n",
        "        y_test : test labels\n",
        "        model: keras model\n",
        "    Ouputs:\n",
        "        acc: float, accuracy of test data on model\n",
        "    \"\"\"\n",
        "    # YOUR CODE HERE\n",
        "    acc = model.evaluate(x_test, y_test)[1]\n",
        "    return acc\n",
        "\n",
        "acc = accuracy(X_test, y_test, model)\n",
        "print('Test accuracy is, ', acc*100, '%')"
      ],
      "execution_count": 0,
      "outputs": [
        {
          "output_type": "stream",
          "text": [
            "127/127 [==============================] - 1s 5ms/step\n",
            "Test accuracy is,  40.94488160816703 %\n"
          ],
          "name": "stdout"
        }
      ]
    },
    {
      "cell_type": "code",
      "metadata": {
        "id": "NB-I1oPcD1jZ",
        "colab_type": "code",
        "outputId": "59317e61-4b7e-4498-823f-2a45e5fa7985",
        "colab": {
          "base_uri": "https://localhost:8080/",
          "height": 177
        }
      },
      "source": [
        "i = 7\n",
        "from google.colab.patches import cv2_imshow\n",
        "cv2_imshow(X_test1[i])"
      ],
      "execution_count": 0,
      "outputs": [
        {
          "output_type": "display_data",
          "data": {
            "image/png": "[encoded data removed]",
            "text/plain": [
              "<PIL.Image.Image image mode=L size=160x160 at 0x7F42AC84A358>"
            ]
          },
          "metadata": {
            "tags": []
          }
        }
      ]
    },
    {
      "cell_type": "code",
      "metadata": {
        "id": "hvCe-x8D1JHk",
        "colab_type": "code",
        "colab": {}
      },
      "source": [
        ""
      ],
      "execution_count": 0,
      "outputs": []
    },
    {
      "cell_type": "code",
      "metadata": {
        "id": "rjArtyZu1JAz",
        "colab_type": "code",
        "colab": {}
      },
      "source": [
        "pr = predict(np.array(X_test))"
      ],
      "execution_count": 0,
      "outputs": []
    },
    {
      "cell_type": "code",
      "metadata": {
        "id": "ZbhuLT3c13El",
        "colab_type": "code",
        "outputId": "8471f3a9-c255-421d-d231-0dc617560c41",
        "colab": {
          "base_uri": "https://localhost:8080/",
          "height": 284
        }
      },
      "source": [
        "oneHot_tolabel(pr) == oneHot_tolabel(y_test)"
      ],
      "execution_count": 0,
      "outputs": [
        {
          "output_type": "execute_result",
          "data": {
            "text/plain": [
              "array([False, False, False, False,  True, False, False, False,  True,\n",
              "       False, False, False,  True,  True,  True, False, False, False,\n",
              "        True,  True,  True, False, False,  True, False, False, False,\n",
              "       False,  True, False,  True,  True, False,  True, False, False,\n",
              "       False,  True, False,  True, False, False, False,  True, False,\n",
              "       False,  True, False, False, False, False, False,  True, False,\n",
              "        True,  True,  True, False, False, False, False, False,  True,\n",
              "        True, False, False, False,  True, False, False, False, False,\n",
              "        True, False, False, False, False,  True,  True, False, False,\n",
              "       False, False, False, False,  True, False, False, False, False,\n",
              "       False, False, False, False, False, False,  True, False, False,\n",
              "        True,  True,  True, False, False, False, False, False, False,\n",
              "       False,  True, False, False, False, False,  True, False, False,\n",
              "        True, False, False,  True, False, False,  True, False,  True,\n",
              "        True])"
            ]
          },
          "metadata": {
            "tags": []
          },
          "execution_count": 96
        }
      ]
    },
    {
      "cell_type": "code",
      "metadata": {
        "id": "KyIf4uXo4Z7E",
        "colab_type": "code",
        "colab": {}
      },
      "source": [
        "oneHot_tolabel(y_test)"
      ],
      "execution_count": 0,
      "outputs": []
    }
  ]
}